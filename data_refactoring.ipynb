{
 "cells": [
  {
   "cell_type": "code",
   "execution_count": 1,
   "metadata": {
    "collapsed": true
   },
   "outputs": [],
   "source": [
    "import pandas as pd\n",
    "import numpy as np\n",
    "\n",
    "df = pd.read_csv('colorectal2.csv')\n",
    "\n",
    "\n",
    "def create_new_columns(new_columns, initial_column):\n",
    "    for value in new_columns:\n",
    "        if type(value) is float:\n",
    "            continue\n",
    "        df[initial_column + \"_\" + str(value)] = np.where(df[initial_column] == value, 1, 0)\n",
    "        df[initial_column + \"_\" + str(value)] = np.where(df[initial_column].isna(), np.nan, df[initial_column + \"_\" + str(value)])\n",
    "\n",
    "def refactor_multi_value():\n",
    "    columns = ['approach', 'position', 'preop_pft', 'airway', 'iv1', 'iv2']\n",
    "    for column in columns:\n",
    "        new_columns = df[column].unique()\n",
    "        create_new_columns(new_columns, column)\n",
    "        df.drop(column, axis=1, inplace=True)\n",
    "\n",
    "refactor_multi_value()\n",
    "df['sex'] = df['sex'].map({'M': 0, 'F': 1})\n",
    "df['ane_type'] = df['ane_type'].map({'General': 0, 'Spinal': 1})\n",
    "df['is_tubesize'] = df['tubesize'].map(lambda x: 0 if x == 'None' else (1 if type(x) is not float else x))\n",
    "df['tubesize_value'] = df['tubesize'].map(lambda x: 0 if x == 'None' else x)\n",
    "\n",
    "df.drop('tubesize', axis=1, inplace=True)\n",
    "df.to_csv('colorectal_refactored.csv', index=False)"
   ]
  },
  {
   "cell_type": "code",
   "execution_count": 1,
   "outputs": [],
   "source": [],
   "metadata": {
    "collapsed": false,
    "pycharm": {
     "name": "#%%\n"
    }
   }
  },
  {
   "cell_type": "code",
   "execution_count": 1,
   "outputs": [],
   "source": [],
   "metadata": {
    "collapsed": false,
    "pycharm": {
     "name": "#%%\n"
    }
   }
  }
 ],
 "metadata": {
  "kernelspec": {
   "display_name": "Python 3",
   "language": "python",
   "name": "python3"
  },
  "language_info": {
   "codemirror_mode": {
    "name": "ipython",
    "version": 2
   },
   "file_extension": ".py",
   "mimetype": "text/x-python",
   "name": "python",
   "nbconvert_exporter": "python",
   "pygments_lexer": "ipython2",
   "version": "2.7.6"
  }
 },
 "nbformat": 4,
 "nbformat_minor": 0
}